{
 "cells": [
  {
   "cell_type": "code",
   "execution_count": 18,
   "metadata": {},
   "outputs": [
    {
     "name": "stdout",
     "output_type": "stream",
     "text": [
      "\n",
      "*\n",
      "**\n",
      "***\n",
      "****\n",
      "*****\n",
      "****\n",
      "***\n",
      "**\n",
      "*\n"
     ]
    }
   ],
   "source": [
    "#Answer 1:Create the below pattern using nested for loop in Python.\n",
    "for i in range(0,10):\n",
    "    m =\"\"\n",
    "    if i<=5:\n",
    "        for j in range(0,i):\n",
    "            m =m+\"*\"\n",
    "            j+=1\n",
    "        print(m)\n",
    "        if i==5:\n",
    "            N =m\n",
    "    else:\n",
    "        N=N[1:i]\n",
    "        print(N) \n",
    "     \n",
    "    i+=1\n",
    "    \n"
   ]
  },
  {
   "cell_type": "code",
   "execution_count": 8,
   "metadata": {},
   "outputs": [
    {
     "name": "stdout",
     "output_type": "stream",
     "text": [
      "\n",
      "*\n",
      "**\n",
      "***\n",
      "****\n",
      "*****\n",
      "****\n",
      "***\n",
      "**\n",
      "*\n"
     ]
    }
   ],
   "source": [
    "#Answer 1:Create the below pattern using nested for loop in Python.\n",
    "for i in range(0,10):\n",
    "    if i<=5:\n",
    "        print(i*\"*\")\n",
    "    else:\n",
    "        print((10-i)*\"*\")"
   ]
  },
  {
   "cell_type": "code",
   "execution_count": 5,
   "metadata": {},
   "outputs": [
    {
     "name": "stdout",
     "output_type": "stream",
     "text": [
      "Enter any word: Mahi\n",
      "iham\n"
     ]
    }
   ],
   "source": [
    "#Answer 2:Write a Python program to reverse a word after accepting the input from the user.\n",
    "Val =input(\"Enter any word: \")\n",
    "def Reverse(word):\n",
    "    i = len(word)\n",
    "    m =[]\n",
    "    for j in range(1,i+1):\n",
    "        m.append(word[i-j])\n",
    "    n=\"\"\n",
    "    n=n.join(m).lower()\n",
    "    return(n)\n",
    "print(Reverse(Val))\n",
    "    "
   ]
  },
  {
   "cell_type": "code",
   "execution_count": 24,
   "metadata": {},
   "outputs": [
    {
     "name": "stdout",
     "output_type": "stream",
     "text": [
      "Enter any word: Mahi\n",
      "iham\n"
     ]
    }
   ],
   "source": [
    "#Answer 2:Write a Python program to reverse a word after accepting the input from the user.\n",
    "Vl =input(\"Enter any word: \")\n",
    "def Rev(word):\n",
    "    p =[]\n",
    "    i =len(word)\n",
    "    for j in range(1,i+1):\n",
    "        p.append(word[-j])\n",
    "    n=\"\"\n",
    "    return(n.join(p).lower())\n",
    "print(Rev(Vl))"
   ]
  },
  {
   "cell_type": "code",
   "execution_count": null,
   "metadata": {},
   "outputs": [],
   "source": []
  }
 ],
 "metadata": {
  "kernelspec": {
   "display_name": "Python 3",
   "language": "python",
   "name": "python3"
  },
  "language_info": {
   "codemirror_mode": {
    "name": "ipython",
    "version": 3
   },
   "file_extension": ".py",
   "mimetype": "text/x-python",
   "name": "python",
   "nbconvert_exporter": "python",
   "pygments_lexer": "ipython3",
   "version": "3.7.7"
  }
 },
 "nbformat": 4,
 "nbformat_minor": 4
}
