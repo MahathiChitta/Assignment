{
 "cells": [
  {
   "cell_type": "code",
   "execution_count": 5,
   "metadata": {},
   "outputs": [
    {
     "name": "stdout",
     "output_type": "stream",
     "text": [
      "2002,2009,2016,2023,2037,2044,2051,2058,2072,2079,2086,2093,2107,2114,2121,2128,2142,2149,2156,2163,2177,2184,2191,2198,2212,2219,2226,2233,2247,2254,2261,2268,2282,2289,2296,2303,2317,2324,2331,2338,2352,2359,2366,2373,2387,2394,2401,2408,2422,2429,2436,2443,2457,2464,2471,2478,2492,2499,2506,2513,2527,2534,2541,2548,2562,2569,2576,2583,2597,2604,2611,2618,2632,2639,2646,2653,2667,2674,2681,2688,2702,2709,2716,2723,2737,2744,2751,2758,2772,2779,2786,2793,2807,2814,2821,2828,2842,2849,2856,2863,2877,2884,2891,2898,2912,2919,2926,2933,2947,2954,2961,2968,2982,2989,2996,3003,3017,3024,3031,3038,3052,3059,3066,3073,3087,3094,3101,3108,3122,3129,3136,3143,3157,3164,3171,3178,3192,3199\n"
     ]
    }
   ],
   "source": [
    "#Answer 1:Divisible by 7 but not by 5 - should be printed in one single line with seperator as \",\"\n",
    "m = []\n",
    "for i in range(2000,3201):\n",
    "    if i%7==0 and i%5 !=0:\n",
    "        m.append(str(i))\n",
    "        i+=1\n",
    "    else:\n",
    "        i+=1\n",
    "#printing as list\n",
    "#print(m)\n",
    "#printing as text\n",
    "n = \",\"\n",
    "print(n.join(m))\n"
   ]
  },
  {
   "cell_type": "code",
   "execution_count": 6,
   "metadata": {},
   "outputs": [
    {
     "name": "stdout",
     "output_type": "stream",
     "text": [
      "Please enter your first name?: Mahathi\n",
      "Please enter your Last name?: Chitta\n",
      "FULL NAME REVERSE: ATTIHC IHTAHAM\n",
      "INDIVIDUAL NAME REVERSAL: IHTAHAM ATTIHC\n"
     ]
    }
   ],
   "source": [
    "#Answer 2: Reversal of Name (first and Last)\n",
    "def reverse(Word):\n",
    "    i =len(Word)\n",
    "    lis =[]\n",
    "    for p in range(1,i+1):\n",
    "        lis.append(Word[i-p])\n",
    "        p+=1\n",
    "    n =\"\"\n",
    "    return(n.join(lis).upper())\n",
    "FirstName= str(input('Please enter your first name?: '))\n",
    "LastName= str(input('Please enter your Last name?: '))\n",
    "Rev1= reverse(FirstName+\" \"+LastName)\n",
    "Rev2=reverse(FirstName)+\" \"+reverse(LastName)\n",
    "print(\"FULL NAME REVERSE:\",Rev1)\n",
    "print(\"INDIVIDUAL NAME REVERSAL:\",Rev2)\n",
    " "
   ]
  },
  {
   "cell_type": "code",
   "execution_count": 1,
   "metadata": {},
   "outputs": [
    {
     "name": "stdout",
     "output_type": "stream",
     "text": [
      "Volume for diameter 12 cm = 905.14 cube cm\n"
     ]
    }
   ],
   "source": [
    "#Answer 3: Write a Python program to find the volume of a sphere with diameter 12 cm.\n",
    "# Volume code\n",
    "def Volume(dia, measure):\n",
    "    Volume = 4/3*22/7*(dia**3)/8\n",
    "    print(\"Volume for diameter\", dia,measure,\"=\",\"{:.2f}\".format(Volume),\"cube\", measure)\n",
    "Volume(12,\"cm\")"
   ]
  },
  {
   "cell_type": "code",
   "execution_count": 2,
   "metadata": {},
   "outputs": [
    {
     "name": "stdout",
     "output_type": "stream",
     "text": [
      "Volume for diameter 15 m = 1767.86 cube m\n"
     ]
    }
   ],
   "source": [
    "Volume(15,\"m\")"
   ]
  },
  {
   "cell_type": "code",
   "execution_count": null,
   "metadata": {},
   "outputs": [],
   "source": []
  }
 ],
 "metadata": {
  "kernelspec": {
   "display_name": "Python 3",
   "language": "python",
   "name": "python3"
  },
  "language_info": {
   "codemirror_mode": {
    "name": "ipython",
    "version": 3
   },
   "file_extension": ".py",
   "mimetype": "text/x-python",
   "name": "python",
   "nbconvert_exporter": "python",
   "pygments_lexer": "ipython3",
   "version": "3.7.7"
  }
 },
 "nbformat": 4,
 "nbformat_minor": 4
}
